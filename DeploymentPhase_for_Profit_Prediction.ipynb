{
 "cells": [
  {
   "cell_type": "code",
   "execution_count": 5,
   "id": "50d99dab",
   "metadata": {},
   "outputs": [],
   "source": [
    "import pickle"
   ]
  },
  {
   "cell_type": "code",
   "execution_count": 12,
   "id": "10a819bb",
   "metadata": {},
   "outputs": [
    {
     "name": "stdout",
     "output_type": "stream",
     "text": [
      "Enter the R&D expense: 34567\n",
      "Enter the administation expense:87654\n",
      "Enter the marketing expense: 2345765\n",
      "Enter the State_florida(value:0 0r 1): 0\n",
      "Enter the State_california(value:0 0r 1) 1\n",
      "Profit : [87249.1666]\n"
     ]
    },
    {
     "name": "stderr",
     "output_type": "stream",
     "text": [
      "C:\\Users\\nravi378\\AppData\\Local\\anaconda3\\Lib\\site-packages\\sklearn\\base.py:464: UserWarning: X does not have valid feature names, but RandomForestRegressor was fitted with feature names\n",
      "  warnings.warn(\n"
     ]
    }
   ],
   "source": [
    "Value1= int(input(\"Enter the R&D expense: \"))\n",
    "Value2 = int(input(\"Enter the administation expense:\"))\n",
    "Value3= int(input(\"Enter the marketing expense: \"))\n",
    "Value4= int(input(\"Enter the State_florida(value:0 0r 1): \"))\n",
    "Value5= int(input(\"Enter the State_california(value:0 0r 1) \"))\n",
    "\n",
    "\n",
    "loaded_model=pickle.load(open(\"RandomForest_SavedModel.sav\",\"rb\"))\n",
    "result=loaded_model.predict([[Value1,Value2,Value3,Value4,Value5]])\n",
    "print(\"Profit :\", result)"
   ]
  },
  {
   "cell_type": "code",
   "execution_count": null,
   "id": "789b007b",
   "metadata": {},
   "outputs": [],
   "source": []
  }
 ],
 "metadata": {
  "kernelspec": {
   "display_name": "Python 3 (ipykernel)",
   "language": "python",
   "name": "python3"
  },
  "language_info": {
   "codemirror_mode": {
    "name": "ipython",
    "version": 3
   },
   "file_extension": ".py",
   "mimetype": "text/x-python",
   "name": "python",
   "nbconvert_exporter": "python",
   "pygments_lexer": "ipython3",
   "version": "3.11.5"
  }
 },
 "nbformat": 4,
 "nbformat_minor": 5
}
